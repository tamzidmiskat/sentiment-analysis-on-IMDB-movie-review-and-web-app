{
 "cells": [
  {
   "cell_type": "code",
   "execution_count": 2,
   "metadata": {
    "execution": {
     "iopub.execute_input": "2024-08-13T17:33:35.129352Z",
     "iopub.status.busy": "2024-08-13T17:33:35.128631Z",
     "iopub.status.idle": "2024-08-13T17:33:35.549412Z",
     "shell.execute_reply": "2024-08-13T17:33:35.548475Z",
     "shell.execute_reply.started": "2024-08-13T17:33:35.129320Z"
    },
    "id": "nM3bUnCm-Fev"
   },
   "outputs": [],
   "source": [
    "import pandas as pd\n",
    "import numpy as np"
   ]
  },
  {
   "cell_type": "code",
   "execution_count": 4,
   "metadata": {
    "execution": {
     "iopub.execute_input": "2024-08-13T17:34:07.545028Z",
     "iopub.status.busy": "2024-08-13T17:34:07.544578Z",
     "iopub.status.idle": "2024-08-13T17:34:09.112784Z",
     "shell.execute_reply": "2024-08-13T17:34:09.111565Z",
     "shell.execute_reply.started": "2024-08-13T17:34:07.544996Z"
    },
    "id": "k085PnIuAODn"
   },
   "outputs": [],
   "source": [
    "data=pd.read_csv(\"/kaggle/input/mydatafiles123/IMDB Dataset.csv\")"
   ]
  },
  {
   "cell_type": "code",
   "execution_count": 5,
   "metadata": {
    "colab": {
     "base_uri": "https://localhost:8080/",
     "height": 206
    },
    "execution": {
     "iopub.execute_input": "2024-08-13T17:34:14.094789Z",
     "iopub.status.busy": "2024-08-13T17:34:14.094109Z",
     "iopub.status.idle": "2024-08-13T17:34:14.117749Z",
     "shell.execute_reply": "2024-08-13T17:34:14.116750Z",
     "shell.execute_reply.started": "2024-08-13T17:34:14.094737Z"
    },
    "id": "uGJr_ZUsBe_1",
    "outputId": "651f93db-fb8a-45d5-c8c3-4e0ea8c2cb0e"
   },
   "outputs": [
    {
     "data": {
      "text/html": [
       "<div>\n",
       "<style scoped>\n",
       "    .dataframe tbody tr th:only-of-type {\n",
       "        vertical-align: middle;\n",
       "    }\n",
       "\n",
       "    .dataframe tbody tr th {\n",
       "        vertical-align: top;\n",
       "    }\n",
       "\n",
       "    .dataframe thead th {\n",
       "        text-align: right;\n",
       "    }\n",
       "</style>\n",
       "<table border=\"1\" class=\"dataframe\">\n",
       "  <thead>\n",
       "    <tr style=\"text-align: right;\">\n",
       "      <th></th>\n",
       "      <th>review</th>\n",
       "      <th>sentiment</th>\n",
       "    </tr>\n",
       "  </thead>\n",
       "  <tbody>\n",
       "    <tr>\n",
       "      <th>0</th>\n",
       "      <td>One of the other reviewers has mentioned that ...</td>\n",
       "      <td>positive</td>\n",
       "    </tr>\n",
       "    <tr>\n",
       "      <th>1</th>\n",
       "      <td>A wonderful little production. &lt;br /&gt;&lt;br /&gt;The...</td>\n",
       "      <td>positive</td>\n",
       "    </tr>\n",
       "    <tr>\n",
       "      <th>2</th>\n",
       "      <td>I thought this was a wonderful way to spend ti...</td>\n",
       "      <td>positive</td>\n",
       "    </tr>\n",
       "    <tr>\n",
       "      <th>3</th>\n",
       "      <td>Basically there's a family where a little boy ...</td>\n",
       "      <td>negative</td>\n",
       "    </tr>\n",
       "    <tr>\n",
       "      <th>4</th>\n",
       "      <td>Petter Mattei's \"Love in the Time of Money\" is...</td>\n",
       "      <td>positive</td>\n",
       "    </tr>\n",
       "  </tbody>\n",
       "</table>\n",
       "</div>"
      ],
      "text/plain": [
       "                                              review sentiment\n",
       "0  One of the other reviewers has mentioned that ...  positive\n",
       "1  A wonderful little production. <br /><br />The...  positive\n",
       "2  I thought this was a wonderful way to spend ti...  positive\n",
       "3  Basically there's a family where a little boy ...  negative\n",
       "4  Petter Mattei's \"Love in the Time of Money\" is...  positive"
      ]
     },
     "execution_count": 5,
     "metadata": {},
     "output_type": "execute_result"
    }
   ],
   "source": [
    "data.head()"
   ]
  },
  {
   "cell_type": "code",
   "execution_count": 6,
   "metadata": {
    "colab": {
     "base_uri": "https://localhost:8080/"
    },
    "execution": {
     "iopub.execute_input": "2024-08-13T17:34:17.043111Z",
     "iopub.status.busy": "2024-08-13T17:34:17.042733Z",
     "iopub.status.idle": "2024-08-13T17:34:17.050109Z",
     "shell.execute_reply": "2024-08-13T17:34:17.048979Z",
     "shell.execute_reply.started": "2024-08-13T17:34:17.043082Z"
    },
    "id": "g8QWzVt2BqH_",
    "outputId": "52620128-edb4-4744-e897-168fd35f2b73"
   },
   "outputs": [
    {
     "data": {
      "text/plain": [
       "(50000, 2)"
      ]
     },
     "execution_count": 6,
     "metadata": {},
     "output_type": "execute_result"
    }
   ],
   "source": [
    "data.shape"
   ]
  },
  {
   "cell_type": "code",
   "execution_count": 7,
   "metadata": {
    "colab": {
     "base_uri": "https://localhost:8080/",
     "height": 204
    },
    "execution": {
     "iopub.execute_input": "2024-08-13T17:34:20.231464Z",
     "iopub.status.busy": "2024-08-13T17:34:20.230387Z",
     "iopub.status.idle": "2024-08-13T17:34:20.237743Z",
     "shell.execute_reply": "2024-08-13T17:34:20.236566Z",
     "shell.execute_reply.started": "2024-08-13T17:34:20.231416Z"
    },
    "id": "DW71sMQGB32l",
    "outputId": "a8c60ad2-7606-44b3-c8ff-b5aa6549f474"
   },
   "outputs": [
    {
     "data": {
      "text/plain": [
       "pandas.core.frame.DataFrame"
      ]
     },
     "execution_count": 7,
     "metadata": {},
     "output_type": "execute_result"
    }
   ],
   "source": [
    "type(data)"
   ]
  },
  {
   "cell_type": "code",
   "execution_count": 8,
   "metadata": {
    "colab": {
     "base_uri": "https://localhost:8080/",
     "height": 206
    },
    "execution": {
     "iopub.execute_input": "2024-08-13T17:34:23.775993Z",
     "iopub.status.busy": "2024-08-13T17:34:23.775556Z",
     "iopub.status.idle": "2024-08-13T17:34:23.787091Z",
     "shell.execute_reply": "2024-08-13T17:34:23.785872Z",
     "shell.execute_reply.started": "2024-08-13T17:34:23.775961Z"
    },
    "id": "dzA0ishPB7RV",
    "outputId": "bb67d12e-1800-4f5f-f371-b8ee40963db6"
   },
   "outputs": [
    {
     "data": {
      "text/html": [
       "<div>\n",
       "<style scoped>\n",
       "    .dataframe tbody tr th:only-of-type {\n",
       "        vertical-align: middle;\n",
       "    }\n",
       "\n",
       "    .dataframe tbody tr th {\n",
       "        vertical-align: top;\n",
       "    }\n",
       "\n",
       "    .dataframe thead th {\n",
       "        text-align: right;\n",
       "    }\n",
       "</style>\n",
       "<table border=\"1\" class=\"dataframe\">\n",
       "  <thead>\n",
       "    <tr style=\"text-align: right;\">\n",
       "      <th></th>\n",
       "      <th>review</th>\n",
       "      <th>sentiment</th>\n",
       "    </tr>\n",
       "  </thead>\n",
       "  <tbody>\n",
       "    <tr>\n",
       "      <th>49995</th>\n",
       "      <td>I thought this movie did a down right good job...</td>\n",
       "      <td>positive</td>\n",
       "    </tr>\n",
       "    <tr>\n",
       "      <th>49996</th>\n",
       "      <td>Bad plot, bad dialogue, bad acting, idiotic di...</td>\n",
       "      <td>negative</td>\n",
       "    </tr>\n",
       "    <tr>\n",
       "      <th>49997</th>\n",
       "      <td>I am a Catholic taught in parochial elementary...</td>\n",
       "      <td>negative</td>\n",
       "    </tr>\n",
       "    <tr>\n",
       "      <th>49998</th>\n",
       "      <td>I'm going to have to disagree with the previou...</td>\n",
       "      <td>negative</td>\n",
       "    </tr>\n",
       "    <tr>\n",
       "      <th>49999</th>\n",
       "      <td>No one expects the Star Trek movies to be high...</td>\n",
       "      <td>negative</td>\n",
       "    </tr>\n",
       "  </tbody>\n",
       "</table>\n",
       "</div>"
      ],
      "text/plain": [
       "                                                  review sentiment\n",
       "49995  I thought this movie did a down right good job...  positive\n",
       "49996  Bad plot, bad dialogue, bad acting, idiotic di...  negative\n",
       "49997  I am a Catholic taught in parochial elementary...  negative\n",
       "49998  I'm going to have to disagree with the previou...  negative\n",
       "49999  No one expects the Star Trek movies to be high...  negative"
      ]
     },
     "execution_count": 8,
     "metadata": {},
     "output_type": "execute_result"
    }
   ],
   "source": [
    "data.tail()"
   ]
  },
  {
   "cell_type": "code",
   "execution_count": 9,
   "metadata": {
    "colab": {
     "base_uri": "https://localhost:8080/",
     "height": 178
    },
    "execution": {
     "iopub.execute_input": "2024-08-13T17:34:26.770730Z",
     "iopub.status.busy": "2024-08-13T17:34:26.769968Z",
     "iopub.status.idle": "2024-08-13T17:34:26.794657Z",
     "shell.execute_reply": "2024-08-13T17:34:26.793504Z",
     "shell.execute_reply.started": "2024-08-13T17:34:26.770688Z"
    },
    "id": "HAayR8mBCSnn",
    "outputId": "1ff8cacd-b8bc-4bc9-f54e-f822d7798126"
   },
   "outputs": [
    {
     "data": {
      "text/plain": [
       "sentiment\n",
       "positive    25000\n",
       "negative    25000\n",
       "Name: count, dtype: int64"
      ]
     },
     "execution_count": 9,
     "metadata": {},
     "output_type": "execute_result"
    }
   ],
   "source": [
    "data[\"sentiment\"].value_counts()"
   ]
  },
  {
   "cell_type": "code",
   "execution_count": 10,
   "metadata": {
    "execution": {
     "iopub.execute_input": "2024-08-13T17:34:29.627118Z",
     "iopub.status.busy": "2024-08-13T17:34:29.626755Z",
     "iopub.status.idle": "2024-08-13T17:34:29.696067Z",
     "shell.execute_reply": "2024-08-13T17:34:29.694861Z",
     "shell.execute_reply.started": "2024-08-13T17:34:29.627089Z"
    },
    "id": "0MVajgkXDj6d"
   },
   "outputs": [
    {
     "name": "stderr",
     "output_type": "stream",
     "text": [
      "/tmp/ipykernel_34/2739597079.py:1: FutureWarning: Downcasting behavior in `replace` is deprecated and will be removed in a future version. To retain the old behavior, explicitly call `result.infer_objects(copy=False)`. To opt-in to the future behavior, set `pd.set_option('future.no_silent_downcasting', True)`\n",
      "  data.replace({\"positive\":1,\"negative\":0},inplace=True)\n"
     ]
    }
   ],
   "source": [
    "data.replace({\"positive\":1,\"negative\":0},inplace=True)"
   ]
  },
  {
   "cell_type": "code",
   "execution_count": 11,
   "metadata": {
    "colab": {
     "base_uri": "https://localhost:8080/",
     "height": 206
    },
    "execution": {
     "iopub.execute_input": "2024-08-13T17:34:36.867054Z",
     "iopub.status.busy": "2024-08-13T17:34:36.866676Z",
     "iopub.status.idle": "2024-08-13T17:34:36.877985Z",
     "shell.execute_reply": "2024-08-13T17:34:36.876842Z",
     "shell.execute_reply.started": "2024-08-13T17:34:36.867024Z"
    },
    "id": "wFjKAmo_D0AF",
    "outputId": "18f6a497-72ee-4fba-fba8-ee04b5ea32d0"
   },
   "outputs": [
    {
     "data": {
      "text/html": [
       "<div>\n",
       "<style scoped>\n",
       "    .dataframe tbody tr th:only-of-type {\n",
       "        vertical-align: middle;\n",
       "    }\n",
       "\n",
       "    .dataframe tbody tr th {\n",
       "        vertical-align: top;\n",
       "    }\n",
       "\n",
       "    .dataframe thead th {\n",
       "        text-align: right;\n",
       "    }\n",
       "</style>\n",
       "<table border=\"1\" class=\"dataframe\">\n",
       "  <thead>\n",
       "    <tr style=\"text-align: right;\">\n",
       "      <th></th>\n",
       "      <th>review</th>\n",
       "      <th>sentiment</th>\n",
       "    </tr>\n",
       "  </thead>\n",
       "  <tbody>\n",
       "    <tr>\n",
       "      <th>49995</th>\n",
       "      <td>I thought this movie did a down right good job...</td>\n",
       "      <td>1</td>\n",
       "    </tr>\n",
       "    <tr>\n",
       "      <th>49996</th>\n",
       "      <td>Bad plot, bad dialogue, bad acting, idiotic di...</td>\n",
       "      <td>0</td>\n",
       "    </tr>\n",
       "    <tr>\n",
       "      <th>49997</th>\n",
       "      <td>I am a Catholic taught in parochial elementary...</td>\n",
       "      <td>0</td>\n",
       "    </tr>\n",
       "    <tr>\n",
       "      <th>49998</th>\n",
       "      <td>I'm going to have to disagree with the previou...</td>\n",
       "      <td>0</td>\n",
       "    </tr>\n",
       "    <tr>\n",
       "      <th>49999</th>\n",
       "      <td>No one expects the Star Trek movies to be high...</td>\n",
       "      <td>0</td>\n",
       "    </tr>\n",
       "  </tbody>\n",
       "</table>\n",
       "</div>"
      ],
      "text/plain": [
       "                                                  review  sentiment\n",
       "49995  I thought this movie did a down right good job...          1\n",
       "49996  Bad plot, bad dialogue, bad acting, idiotic di...          0\n",
       "49997  I am a Catholic taught in parochial elementary...          0\n",
       "49998  I'm going to have to disagree with the previou...          0\n",
       "49999  No one expects the Star Trek movies to be high...          0"
      ]
     },
     "execution_count": 11,
     "metadata": {},
     "output_type": "execute_result"
    }
   ],
   "source": [
    "data.tail()"
   ]
  },
  {
   "cell_type": "code",
   "execution_count": 12,
   "metadata": {
    "execution": {
     "iopub.execute_input": "2024-08-13T17:34:45.985059Z",
     "iopub.status.busy": "2024-08-13T17:34:45.984291Z",
     "iopub.status.idle": "2024-08-13T17:35:00.244571Z",
     "shell.execute_reply": "2024-08-13T17:35:00.243655Z",
     "shell.execute_reply.started": "2024-08-13T17:34:45.985024Z"
    },
    "id": "SUffWRsoD3EV"
   },
   "outputs": [
    {
     "name": "stderr",
     "output_type": "stream",
     "text": [
      "2024-08-13 17:34:48.648106: E external/local_xla/xla/stream_executor/cuda/cuda_dnn.cc:9261] Unable to register cuDNN factory: Attempting to register factory for plugin cuDNN when one has already been registered\n",
      "2024-08-13 17:34:48.648227: E external/local_xla/xla/stream_executor/cuda/cuda_fft.cc:607] Unable to register cuFFT factory: Attempting to register factory for plugin cuFFT when one has already been registered\n",
      "2024-08-13 17:34:48.794595: E external/local_xla/xla/stream_executor/cuda/cuda_blas.cc:1515] Unable to register cuBLAS factory: Attempting to register factory for plugin cuBLAS when one has already been registered\n"
     ]
    }
   ],
   "source": [
    "from sklearn.model_selection import train_test_split\n",
    "from tensorflow.keras.models import Sequential\n",
    "from tensorflow.keras.layers import Embedding, LSTM, Dense\n",
    "from tensorflow.keras.preprocessing.text import Tokenizer\n",
    "from tensorflow.keras.preprocessing.sequence import pad_sequences"
   ]
  },
  {
   "cell_type": "code",
   "execution_count": 13,
   "metadata": {
    "execution": {
     "iopub.execute_input": "2024-08-13T17:35:26.852327Z",
     "iopub.status.busy": "2024-08-13T17:35:26.851667Z",
     "iopub.status.idle": "2024-08-13T17:35:26.871201Z",
     "shell.execute_reply": "2024-08-13T17:35:26.869833Z",
     "shell.execute_reply.started": "2024-08-13T17:35:26.852296Z"
    },
    "id": "E343ouGVFIjR"
   },
   "outputs": [],
   "source": [
    "train_data, test_data = train_test_split(data, test_size=0.2, random_state=42)"
   ]
  },
  {
   "cell_type": "code",
   "execution_count": 14,
   "metadata": {
    "colab": {
     "base_uri": "https://localhost:8080/"
    },
    "execution": {
     "iopub.execute_input": "2024-08-13T17:35:30.097503Z",
     "iopub.status.busy": "2024-08-13T17:35:30.096677Z",
     "iopub.status.idle": "2024-08-13T17:35:30.106240Z",
     "shell.execute_reply": "2024-08-13T17:35:30.105057Z",
     "shell.execute_reply.started": "2024-08-13T17:35:30.097449Z"
    },
    "id": "HEmnkg5EF8Rf",
    "outputId": "9068dae2-b84a-4268-e49a-6e56c1d96ff7"
   },
   "outputs": [
    {
     "data": {
      "text/plain": [
       "(40000, 2)"
      ]
     },
     "execution_count": 14,
     "metadata": {},
     "output_type": "execute_result"
    }
   ],
   "source": [
    "train_data.shape"
   ]
  },
  {
   "cell_type": "code",
   "execution_count": 15,
   "metadata": {
    "colab": {
     "base_uri": "https://localhost:8080/"
    },
    "execution": {
     "iopub.execute_input": "2024-08-13T17:35:32.527593Z",
     "iopub.status.busy": "2024-08-13T17:35:32.527190Z",
     "iopub.status.idle": "2024-08-13T17:35:32.534368Z",
     "shell.execute_reply": "2024-08-13T17:35:32.533124Z",
     "shell.execute_reply.started": "2024-08-13T17:35:32.527561Z"
    },
    "id": "63JxI05BGDbP",
    "outputId": "84a90012-beec-412d-cae9-ca21337162bc"
   },
   "outputs": [
    {
     "data": {
      "text/plain": [
       "(10000, 2)"
      ]
     },
     "execution_count": 15,
     "metadata": {},
     "output_type": "execute_result"
    }
   ],
   "source": [
    "test_data.shape"
   ]
  },
  {
   "cell_type": "code",
   "execution_count": 17,
   "metadata": {
    "execution": {
     "iopub.execute_input": "2024-08-13T17:36:41.938661Z",
     "iopub.status.busy": "2024-08-13T17:36:41.938196Z",
     "iopub.status.idle": "2024-08-13T17:36:52.303082Z",
     "shell.execute_reply": "2024-08-13T17:36:52.302077Z",
     "shell.execute_reply.started": "2024-08-13T17:36:41.938613Z"
    },
    "id": "j_wyf-WOGInf"
   },
   "outputs": [],
   "source": [
    "tokenizer = Tokenizer(num_words=10000)\n",
    "tokenizer.fit_on_texts(train_data['review'])"
   ]
  },
  {
   "cell_type": "code",
   "execution_count": 18,
   "metadata": {
    "execution": {
     "iopub.execute_input": "2024-08-13T17:37:00.823256Z",
     "iopub.status.busy": "2024-08-13T17:37:00.822887Z",
     "iopub.status.idle": "2024-08-13T17:37:11.165941Z",
     "shell.execute_reply": "2024-08-13T17:37:11.164845Z",
     "shell.execute_reply.started": "2024-08-13T17:37:00.823226Z"
    },
    "id": "tqVQunhaG2cf"
   },
   "outputs": [],
   "source": [
    "X_train = pad_sequences(tokenizer.texts_to_sequences(train_data[\"review\"]), maxlen=200)\n",
    "X_test = pad_sequences(tokenizer.texts_to_sequences(test_data[\"review\"]), maxlen=200)"
   ]
  },
  {
   "cell_type": "code",
   "execution_count": 19,
   "metadata": {
    "colab": {
     "base_uri": "https://localhost:8080/"
    },
    "execution": {
     "iopub.execute_input": "2024-08-13T17:37:14.382881Z",
     "iopub.status.busy": "2024-08-13T17:37:14.382420Z",
     "iopub.status.idle": "2024-08-13T17:37:14.390714Z",
     "shell.execute_reply": "2024-08-13T17:37:14.389551Z",
     "shell.execute_reply.started": "2024-08-13T17:37:14.382850Z"
    },
    "id": "yxz--j-HHgWy",
    "outputId": "8d385b57-d1f3-43d0-8ed6-814aa2bee4bf"
   },
   "outputs": [
    {
     "data": {
      "text/plain": [
       "array([[2946, 3749, 1828, ...,  205,  351, 3856],\n",
       "       [   3, 4004,  208, ...,   89,  103,    9],\n",
       "       [   0,    0,    0, ...,    2,  710,   62],\n",
       "       ...,\n",
       "       [   0,    0,    0, ..., 1641,    2,  603],\n",
       "       [   0,    0,    0, ...,  103,  125, 7285],\n",
       "       [   0,    0,    0, ...,   70,   73, 2062]], dtype=int32)"
      ]
     },
     "execution_count": 19,
     "metadata": {},
     "output_type": "execute_result"
    }
   ],
   "source": [
    "X_train"
   ]
  },
  {
   "cell_type": "code",
   "execution_count": 20,
   "metadata": {
    "colab": {
     "base_uri": "https://localhost:8080/"
    },
    "execution": {
     "iopub.execute_input": "2024-08-13T17:37:18.764856Z",
     "iopub.status.busy": "2024-08-13T17:37:18.764454Z",
     "iopub.status.idle": "2024-08-13T17:37:18.771936Z",
     "shell.execute_reply": "2024-08-13T17:37:18.770948Z",
     "shell.execute_reply.started": "2024-08-13T17:37:18.764820Z"
    },
    "id": "PFHeexk8HwQI",
    "outputId": "2806d70c-3205-411c-a901-1a28273d10d3"
   },
   "outputs": [
    {
     "data": {
      "text/plain": [
       "array([[   0,    0,    0, ...,  995,  719,  155],\n",
       "       [ 133,    6,  117, ...,    7, 9050, 8494],\n",
       "       [   0,    0,    0, ...,   50, 1088,   96],\n",
       "       ...,\n",
       "       [   0,    0,    0, ...,  125,  200, 3241],\n",
       "       [   0,    0,    0, ..., 1066,    1, 2305],\n",
       "       [   0,    0,    0, ...,    1,  332,   27]], dtype=int32)"
      ]
     },
     "execution_count": 20,
     "metadata": {},
     "output_type": "execute_result"
    }
   ],
   "source": [
    "X_test"
   ]
  },
  {
   "cell_type": "code",
   "execution_count": 21,
   "metadata": {
    "execution": {
     "iopub.execute_input": "2024-08-13T17:37:21.766615Z",
     "iopub.status.busy": "2024-08-13T17:37:21.765892Z",
     "iopub.status.idle": "2024-08-13T17:37:21.771689Z",
     "shell.execute_reply": "2024-08-13T17:37:21.770555Z",
     "shell.execute_reply.started": "2024-08-13T17:37:21.766566Z"
    },
    "id": "YG_AsaXEHz0A"
   },
   "outputs": [],
   "source": [
    "Y_train=train_data[\"sentiment\"]\n",
    "Y_test=test_data[\"sentiment\"]"
   ]
  },
  {
   "cell_type": "markdown",
   "metadata": {
    "id": "g6ZCYm0RIB2o"
   },
   "source": [
    "LSTM model building"
   ]
  },
  {
   "cell_type": "code",
   "execution_count": 24,
   "metadata": {
    "colab": {
     "base_uri": "https://localhost:8080/"
    },
    "execution": {
     "iopub.execute_input": "2024-08-13T17:39:08.098184Z",
     "iopub.status.busy": "2024-08-13T17:39:08.097791Z",
     "iopub.status.idle": "2024-08-13T17:39:08.113689Z",
     "shell.execute_reply": "2024-08-13T17:39:08.112412Z",
     "shell.execute_reply.started": "2024-08-13T17:39:08.098152Z"
    },
    "id": "uGpbF_-NH9kh",
    "outputId": "0229d88e-877b-436d-8a76-321192df78d7"
   },
   "outputs": [],
   "source": [
    "model = Sequential()\n",
    "model.add(Embedding(input_dim=10000, output_dim=128))\n",
    "model.add(LSTM(units=128, dropout=0.2, recurrent_dropout=0.2))\n",
    "model.add(Dense(units=1, activation = \"sigmoid\"))"
   ]
  },
  {
   "cell_type": "code",
   "execution_count": 34,
   "metadata": {
    "colab": {
     "base_uri": "https://localhost:8080/",
     "height": 238
    },
    "execution": {
     "iopub.execute_input": "2024-08-13T18:07:42.741354Z",
     "iopub.status.busy": "2024-08-13T18:07:42.740979Z",
     "iopub.status.idle": "2024-08-13T18:07:42.765351Z",
     "shell.execute_reply": "2024-08-13T18:07:42.764343Z",
     "shell.execute_reply.started": "2024-08-13T18:07:42.741325Z"
    },
    "id": "iiT-TdR9IvQb",
    "outputId": "411e7bab-9347-4614-8d3f-1c31f3d7805d"
   },
   "outputs": [
    {
     "data": {
      "text/html": [
       "<pre style=\"white-space:pre;overflow-x:auto;line-height:normal;font-family:Menlo,'DejaVu Sans Mono',consolas,'Courier New',monospace\"><span style=\"font-weight: bold\">Model: \"sequential_1\"</span>\n",
       "</pre>\n"
      ],
      "text/plain": [
       "\u001b[1mModel: \"sequential_1\"\u001b[0m\n"
      ]
     },
     "metadata": {},
     "output_type": "display_data"
    },
    {
     "data": {
      "text/html": [
       "<pre style=\"white-space:pre;overflow-x:auto;line-height:normal;font-family:Menlo,'DejaVu Sans Mono',consolas,'Courier New',monospace\">┏━━━━━━━━━━━━━━━━━━━━━━━━━━━━━━━━━┳━━━━━━━━━━━━━━━━━━━━━━━━┳━━━━━━━━━━━━━━━┓\n",
       "┃<span style=\"font-weight: bold\"> Layer (type)                    </span>┃<span style=\"font-weight: bold\"> Output Shape           </span>┃<span style=\"font-weight: bold\">       Param # </span>┃\n",
       "┡━━━━━━━━━━━━━━━━━━━━━━━━━━━━━━━━━╇━━━━━━━━━━━━━━━━━━━━━━━━╇━━━━━━━━━━━━━━━┩\n",
       "│ embedding_1 (<span style=\"color: #0087ff; text-decoration-color: #0087ff\">Embedding</span>)         │ (<span style=\"color: #00af00; text-decoration-color: #00af00\">64</span>, <span style=\"color: #00af00; text-decoration-color: #00af00\">200</span>, <span style=\"color: #00af00; text-decoration-color: #00af00\">128</span>)         │     <span style=\"color: #00af00; text-decoration-color: #00af00\">1,280,000</span> │\n",
       "├─────────────────────────────────┼────────────────────────┼───────────────┤\n",
       "│ lstm_1 (<span style=\"color: #0087ff; text-decoration-color: #0087ff\">LSTM</span>)                   │ (<span style=\"color: #00af00; text-decoration-color: #00af00\">64</span>, <span style=\"color: #00af00; text-decoration-color: #00af00\">128</span>)              │       <span style=\"color: #00af00; text-decoration-color: #00af00\">131,584</span> │\n",
       "├─────────────────────────────────┼────────────────────────┼───────────────┤\n",
       "│ dense_1 (<span style=\"color: #0087ff; text-decoration-color: #0087ff\">Dense</span>)                 │ (<span style=\"color: #00af00; text-decoration-color: #00af00\">64</span>, <span style=\"color: #00af00; text-decoration-color: #00af00\">1</span>)                │           <span style=\"color: #00af00; text-decoration-color: #00af00\">129</span> │\n",
       "└─────────────────────────────────┴────────────────────────┴───────────────┘\n",
       "</pre>\n"
      ],
      "text/plain": [
       "┏━━━━━━━━━━━━━━━━━━━━━━━━━━━━━━━━━┳━━━━━━━━━━━━━━━━━━━━━━━━┳━━━━━━━━━━━━━━━┓\n",
       "┃\u001b[1m \u001b[0m\u001b[1mLayer (type)                   \u001b[0m\u001b[1m \u001b[0m┃\u001b[1m \u001b[0m\u001b[1mOutput Shape          \u001b[0m\u001b[1m \u001b[0m┃\u001b[1m \u001b[0m\u001b[1m      Param #\u001b[0m\u001b[1m \u001b[0m┃\n",
       "┡━━━━━━━━━━━━━━━━━━━━━━━━━━━━━━━━━╇━━━━━━━━━━━━━━━━━━━━━━━━╇━━━━━━━━━━━━━━━┩\n",
       "│ embedding_1 (\u001b[38;5;33mEmbedding\u001b[0m)         │ (\u001b[38;5;34m64\u001b[0m, \u001b[38;5;34m200\u001b[0m, \u001b[38;5;34m128\u001b[0m)         │     \u001b[38;5;34m1,280,000\u001b[0m │\n",
       "├─────────────────────────────────┼────────────────────────┼───────────────┤\n",
       "│ lstm_1 (\u001b[38;5;33mLSTM\u001b[0m)                   │ (\u001b[38;5;34m64\u001b[0m, \u001b[38;5;34m128\u001b[0m)              │       \u001b[38;5;34m131,584\u001b[0m │\n",
       "├─────────────────────────────────┼────────────────────────┼───────────────┤\n",
       "│ dense_1 (\u001b[38;5;33mDense\u001b[0m)                 │ (\u001b[38;5;34m64\u001b[0m, \u001b[38;5;34m1\u001b[0m)                │           \u001b[38;5;34m129\u001b[0m │\n",
       "└─────────────────────────────────┴────────────────────────┴───────────────┘\n"
      ]
     },
     "metadata": {},
     "output_type": "display_data"
    },
    {
     "data": {
      "text/html": [
       "<pre style=\"white-space:pre;overflow-x:auto;line-height:normal;font-family:Menlo,'DejaVu Sans Mono',consolas,'Courier New',monospace\"><span style=\"font-weight: bold\"> Total params: </span><span style=\"color: #00af00; text-decoration-color: #00af00\">4,235,141</span> (16.16 MB)\n",
       "</pre>\n"
      ],
      "text/plain": [
       "\u001b[1m Total params: \u001b[0m\u001b[38;5;34m4,235,141\u001b[0m (16.16 MB)\n"
      ]
     },
     "metadata": {},
     "output_type": "display_data"
    },
    {
     "data": {
      "text/html": [
       "<pre style=\"white-space:pre;overflow-x:auto;line-height:normal;font-family:Menlo,'DejaVu Sans Mono',consolas,'Courier New',monospace\"><span style=\"font-weight: bold\"> Trainable params: </span><span style=\"color: #00af00; text-decoration-color: #00af00\">1,411,713</span> (5.39 MB)\n",
       "</pre>\n"
      ],
      "text/plain": [
       "\u001b[1m Trainable params: \u001b[0m\u001b[38;5;34m1,411,713\u001b[0m (5.39 MB)\n"
      ]
     },
     "metadata": {},
     "output_type": "display_data"
    },
    {
     "data": {
      "text/html": [
       "<pre style=\"white-space:pre;overflow-x:auto;line-height:normal;font-family:Menlo,'DejaVu Sans Mono',consolas,'Courier New',monospace\"><span style=\"font-weight: bold\"> Non-trainable params: </span><span style=\"color: #00af00; text-decoration-color: #00af00\">0</span> (0.00 B)\n",
       "</pre>\n"
      ],
      "text/plain": [
       "\u001b[1m Non-trainable params: \u001b[0m\u001b[38;5;34m0\u001b[0m (0.00 B)\n"
      ]
     },
     "metadata": {},
     "output_type": "display_data"
    },
    {
     "data": {
      "text/html": [
       "<pre style=\"white-space:pre;overflow-x:auto;line-height:normal;font-family:Menlo,'DejaVu Sans Mono',consolas,'Courier New',monospace\"><span style=\"font-weight: bold\"> Optimizer params: </span><span style=\"color: #00af00; text-decoration-color: #00af00\">2,823,428</span> (10.77 MB)\n",
       "</pre>\n"
      ],
      "text/plain": [
       "\u001b[1m Optimizer params: \u001b[0m\u001b[38;5;34m2,823,428\u001b[0m (10.77 MB)\n"
      ]
     },
     "metadata": {},
     "output_type": "display_data"
    }
   ],
   "source": [
    "model.summary()"
   ]
  },
  {
   "cell_type": "code",
   "execution_count": 27,
   "metadata": {
    "execution": {
     "iopub.execute_input": "2024-08-13T17:39:24.527408Z",
     "iopub.status.busy": "2024-08-13T17:39:24.527000Z",
     "iopub.status.idle": "2024-08-13T17:39:24.538563Z",
     "shell.execute_reply": "2024-08-13T17:39:24.537300Z",
     "shell.execute_reply.started": "2024-08-13T17:39:24.527373Z"
    },
    "id": "ghoIXqQeI2w2"
   },
   "outputs": [],
   "source": [
    "model.compile(loss=\"binary_crossentropy\", optimizer=\"adam\", metrics=[\"accuracy\"])"
   ]
  },
  {
   "cell_type": "code",
   "execution_count": 28,
   "metadata": {
    "colab": {
     "base_uri": "https://localhost:8080/"
    },
    "execution": {
     "iopub.execute_input": "2024-08-13T17:39:27.187680Z",
     "iopub.status.busy": "2024-08-13T17:39:27.187255Z",
     "iopub.status.idle": "2024-08-13T17:49:30.954623Z",
     "shell.execute_reply": "2024-08-13T17:49:30.953545Z",
     "shell.execute_reply.started": "2024-08-13T17:39:27.187646Z"
    },
    "id": "b0WyLsDDJFQo",
    "outputId": "799e5378-5061-449a-f5f6-ed992fab3fc6"
   },
   "outputs": [
    {
     "name": "stdout",
     "output_type": "stream",
     "text": [
      "Epoch 1/5\n",
      "\u001b[1m500/500\u001b[0m \u001b[32m━━━━━━━━━━━━━━━━━━━━\u001b[0m\u001b[37m\u001b[0m \u001b[1m126s\u001b[0m 240ms/step - accuracy: 0.7109 - loss: 0.5507 - val_accuracy: 0.8512 - val_loss: 0.3652\n",
      "Epoch 2/5\n",
      "\u001b[1m500/500\u001b[0m \u001b[32m━━━━━━━━━━━━━━━━━━━━\u001b[0m\u001b[37m\u001b[0m \u001b[1m120s\u001b[0m 241ms/step - accuracy: 0.8419 - loss: 0.3765 - val_accuracy: 0.8409 - val_loss: 0.3674\n",
      "Epoch 3/5\n",
      "\u001b[1m500/500\u001b[0m \u001b[32m━━━━━━━━━━━━━━━━━━━━\u001b[0m\u001b[37m\u001b[0m \u001b[1m119s\u001b[0m 238ms/step - accuracy: 0.8746 - loss: 0.3059 - val_accuracy: 0.8654 - val_loss: 0.3305\n",
      "Epoch 4/5\n",
      "\u001b[1m500/500\u001b[0m \u001b[32m━━━━━━━━━━━━━━━━━━━━\u001b[0m\u001b[37m\u001b[0m \u001b[1m120s\u001b[0m 239ms/step - accuracy: 0.9036 - loss: 0.2488 - val_accuracy: 0.8525 - val_loss: 0.3572\n",
      "Epoch 5/5\n",
      "\u001b[1m500/500\u001b[0m \u001b[32m━━━━━━━━━━━━━━━━━━━━\u001b[0m\u001b[37m\u001b[0m \u001b[1m119s\u001b[0m 237ms/step - accuracy: 0.9161 - loss: 0.2248 - val_accuracy: 0.8521 - val_loss: 0.3644\n"
     ]
    },
    {
     "data": {
      "text/plain": [
       "<keras.src.callbacks.history.History at 0x7893a9817f40>"
      ]
     },
     "execution_count": 28,
     "metadata": {},
     "output_type": "execute_result"
    }
   ],
   "source": [
    "model.fit(X_train, Y_train, batch_size=64, epochs=5, validation_split=0.2)"
   ]
  },
  {
   "cell_type": "code",
   "execution_count": 29,
   "metadata": {
    "execution": {
     "iopub.execute_input": "2024-08-13T17:50:14.188449Z",
     "iopub.status.busy": "2024-08-13T17:50:14.188046Z",
     "iopub.status.idle": "2024-08-13T17:50:39.476867Z",
     "shell.execute_reply": "2024-08-13T17:50:39.475839Z",
     "shell.execute_reply.started": "2024-08-13T17:50:14.188416Z"
    }
   },
   "outputs": [
    {
     "name": "stdout",
     "output_type": "stream",
     "text": [
      "\u001b[1m313/313\u001b[0m \u001b[32m━━━━━━━━━━━━━━━━━━━━\u001b[0m\u001b[37m\u001b[0m \u001b[1m25s\u001b[0m 79ms/step - accuracy: 0.8577 - loss: 0.3545\n"
     ]
    }
   ],
   "source": [
    "loss, accuracy = model.evaluate(X_test, Y_test)"
   ]
  },
  {
   "cell_type": "markdown",
   "metadata": {},
   "source": [
    "# **Building Predictive System**"
   ]
  },
  {
   "cell_type": "code",
   "execution_count": 32,
   "metadata": {
    "execution": {
     "iopub.execute_input": "2024-08-13T17:54:26.082095Z",
     "iopub.status.busy": "2024-08-13T17:54:26.081692Z",
     "iopub.status.idle": "2024-08-13T17:54:26.155299Z",
     "shell.execute_reply": "2024-08-13T17:54:26.154260Z",
     "shell.execute_reply.started": "2024-08-13T17:54:26.082062Z"
    }
   },
   "outputs": [],
   "source": [
    "model.save(\"model.h5\")"
   ]
  },
  {
   "cell_type": "code",
   "execution_count": 33,
   "metadata": {
    "execution": {
     "iopub.execute_input": "2024-08-13T18:05:50.679727Z",
     "iopub.status.busy": "2024-08-13T18:05:50.679175Z",
     "iopub.status.idle": "2024-08-13T18:05:55.702942Z",
     "shell.execute_reply": "2024-08-13T18:05:55.701755Z",
     "shell.execute_reply.started": "2024-08-13T18:05:50.679695Z"
    }
   },
   "outputs": [
    {
     "data": {
      "text/plain": [
       "['tokenizer.pkl']"
      ]
     },
     "execution_count": 33,
     "metadata": {},
     "output_type": "execute_result"
    }
   ],
   "source": [
    "import joblib\n",
    "joblib.dump(tokenizer, \"tokenizer.pkl\")"
   ]
  },
  {
   "cell_type": "code",
   "execution_count": 43,
   "metadata": {
    "execution": {
     "iopub.execute_input": "2024-08-13T18:15:30.024391Z",
     "iopub.status.busy": "2024-08-13T18:15:30.023461Z",
     "iopub.status.idle": "2024-08-13T18:15:30.030131Z",
     "shell.execute_reply": "2024-08-13T18:15:30.028942Z",
     "shell.execute_reply.started": "2024-08-13T18:15:30.024353Z"
    }
   },
   "outputs": [],
   "source": [
    "def predictive_system(review):\n",
    "    sequences = tokenizer.texts_to_sequences([review])\n",
    "    padded_sequences = pad_sequences(sequences,maxlen=200)\n",
    "    prediction = model.predict(padded_sequences)\n",
    "    sentiment = \"positive\" if prediction[0][0]>0.5 else \"negative\"\n",
    "    return sentiment"
   ]
  },
  {
   "cell_type": "code",
   "execution_count": 50,
   "metadata": {
    "execution": {
     "iopub.execute_input": "2024-08-13T18:16:43.091715Z",
     "iopub.status.busy": "2024-08-13T18:16:43.091288Z",
     "iopub.status.idle": "2024-08-13T18:16:43.241898Z",
     "shell.execute_reply": "2024-08-13T18:16:43.240901Z",
     "shell.execute_reply.started": "2024-08-13T18:16:43.091679Z"
    }
   },
   "outputs": [
    {
     "name": "stdout",
     "output_type": "stream",
     "text": [
      "\u001b[1m1/1\u001b[0m \u001b[32m━━━━━━━━━━━━━━━━━━━━\u001b[0m\u001b[37m\u001b[0m \u001b[1m0s\u001b[0m 96ms/step\n"
     ]
    },
    {
     "data": {
      "text/plain": [
       "'negative'"
      ]
     },
     "execution_count": 50,
     "metadata": {},
     "output_type": "execute_result"
    }
   ],
   "source": [
    "predictive_system(\"this movie was horrible\")"
   ]
  },
  {
   "cell_type": "code",
   "execution_count": 51,
   "metadata": {
    "execution": {
     "iopub.execute_input": "2024-08-13T18:18:24.049321Z",
     "iopub.status.busy": "2024-08-13T18:18:24.048911Z",
     "iopub.status.idle": "2024-08-13T18:18:24.206514Z",
     "shell.execute_reply": "2024-08-13T18:18:24.205492Z",
     "shell.execute_reply.started": "2024-08-13T18:18:24.049288Z"
    }
   },
   "outputs": [
    {
     "name": "stdout",
     "output_type": "stream",
     "text": [
      "\u001b[1m1/1\u001b[0m \u001b[32m━━━━━━━━━━━━━━━━━━━━\u001b[0m\u001b[37m\u001b[0m \u001b[1m0s\u001b[0m 98ms/step\n"
     ]
    },
    {
     "data": {
      "text/plain": [
       "'positive'"
      ]
     },
     "execution_count": 51,
     "metadata": {},
     "output_type": "execute_result"
    }
   ],
   "source": [
    "predictive_system(\"A trilling advanture with stunning visual\")"
   ]
  },
  {
   "cell_type": "code",
   "execution_count": 52,
   "metadata": {
    "execution": {
     "iopub.execute_input": "2024-08-13T18:19:02.869541Z",
     "iopub.status.busy": "2024-08-13T18:19:02.868619Z",
     "iopub.status.idle": "2024-08-13T18:19:03.027282Z",
     "shell.execute_reply": "2024-08-13T18:19:03.026260Z",
     "shell.execute_reply.started": "2024-08-13T18:19:02.869505Z"
    }
   },
   "outputs": [
    {
     "name": "stdout",
     "output_type": "stream",
     "text": [
      "\u001b[1m1/1\u001b[0m \u001b[32m━━━━━━━━━━━━━━━━━━━━\u001b[0m\u001b[37m\u001b[0m \u001b[1m0s\u001b[0m 100ms/step\n"
     ]
    },
    {
     "data": {
      "text/plain": [
       "'positive'"
      ]
     },
     "execution_count": 52,
     "metadata": {},
     "output_type": "execute_result"
    }
   ],
   "source": [
    "predictive_system(\"A visual masterpiece\")"
   ]
  },
  {
   "cell_type": "code",
   "execution_count": 53,
   "metadata": {
    "execution": {
     "iopub.execute_input": "2024-08-13T18:19:30.033352Z",
     "iopub.status.busy": "2024-08-13T18:19:30.032873Z",
     "iopub.status.idle": "2024-08-13T18:19:30.209854Z",
     "shell.execute_reply": "2024-08-13T18:19:30.208738Z",
     "shell.execute_reply.started": "2024-08-13T18:19:30.033313Z"
    }
   },
   "outputs": [
    {
     "name": "stdout",
     "output_type": "stream",
     "text": [
      "\u001b[1m1/1\u001b[0m \u001b[32m━━━━━━━━━━━━━━━━━━━━\u001b[0m\u001b[37m\u001b[0m \u001b[1m0s\u001b[0m 103ms/step\n"
     ]
    },
    {
     "data": {
      "text/plain": [
       "'negative'"
      ]
     },
     "execution_count": 53,
     "metadata": {},
     "output_type": "execute_result"
    }
   ],
   "source": [
    "predictive_system(\"this movie was long and slow\")"
   ]
  }
 ],
 "metadata": {
  "accelerator": "GPU",
  "colab": {
   "gpuType": "T4",
   "provenance": []
  },
  "kaggle": {
   "accelerator": "gpu",
   "dataSources": [
    {
     "datasetId": 2872804,
     "sourceId": 4953987,
     "sourceType": "datasetVersion"
    }
   ],
   "dockerImageVersionId": 30747,
   "isGpuEnabled": true,
   "isInternetEnabled": true,
   "language": "python",
   "sourceType": "notebook"
  },
  "kernelspec": {
   "display_name": "Python 3 (ipykernel)",
   "language": "python",
   "name": "python3"
  },
  "language_info": {
   "codemirror_mode": {
    "name": "ipython",
    "version": 3
   },
   "file_extension": ".py",
   "mimetype": "text/x-python",
   "name": "python",
   "nbconvert_exporter": "python",
   "pygments_lexer": "ipython3",
   "version": "3.12.2"
  }
 },
 "nbformat": 4,
 "nbformat_minor": 4
}
